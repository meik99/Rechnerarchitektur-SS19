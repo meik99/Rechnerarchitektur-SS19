{
 "cells": [
  {
   "cell_type": "markdown",
   "metadata": {},
   "source": [
    "### Press Ctrl + A on the Output tab of the epiic webpage, and copy everything\n",
    "### Then copy it into a output.txt in this directory, the notebook below will parse it"
   ]
  },
  {
   "cell_type": "code",
   "execution_count": 440,
   "metadata": {},
   "outputs": [],
   "source": [
    "import re"
   ]
  },
  {
   "cell_type": "code",
   "execution_count": 470,
   "metadata": {},
   "outputs": [],
   "source": [
    "from collections import namedtuple\n",
    "\n",
    "VHDLOutput = namedtuple(\"VHDLOutput\", [\"time\", \n",
    "                                       \"instruction\", \"pc\", \n",
    "                                       \"aluA\", \"aluB\", \"aluResult\", \n",
    "                                       \"result\", \"destReg\", \n",
    "                                       \"regA\", \"regB\", \"regAddrA\", \"regAddrB\",\n",
    "                                       \"jumpAddr\", \"addrSel\", \"nextAddr\", \"branchAddr\",\n",
    "                                       \"regwrite\", \"regdst\", \"alusrc\", \"branch\", \"memwrite\", \"memtoreg\", \"jump\", \"aluCtrl\"])"
   ]
  },
  {
   "cell_type": "code",
   "execution_count": 471,
   "metadata": {},
   "outputs": [],
   "source": [
    "def b2hex(s):\n",
    "    if \"-\" in s:\n",
    "        return s\n",
    "    return \"0x{:08x}\".format(int(s, 2))\n",
    "\n",
    "def b2int(s):\n",
    "    if \"-\" in s:\n",
    "        return s\n",
    "    return int(s, 2)\n",
    "\n",
    "def b2debug(s):\n",
    "    print(\"bin:\", s)\n",
    "    print(\"hex: \", b2hex(s))\n",
    "    print(\"int: \", b2int(s))"
   ]
  },
  {
   "cell_type": "code",
   "execution_count": null,
   "metadata": {},
   "outputs": [],
   "source": []
  },
  {
   "cell_type": "code",
   "execution_count": 730,
   "metadata": {},
   "outputs": [],
   "source": [
    "def parse_messages(lines):\n",
    "    messages = [[]]\n",
    "    # group lines between Begin and End\n",
    "    curr_message = messages[0]\n",
    "    for l in lines:\n",
    "        if \"Begin\" in l:\n",
    "            curr_message.clear()\n",
    "        curr_message.append(l)\n",
    "        if \"End\" in l:\n",
    "            curr_message = []\n",
    "            messages.append(curr_message)\n",
    "    \n",
    "    outputs = []\n",
    "    for message in messages[1:]:\n",
    "        if(len(message) < 2):\n",
    "            continue\n",
    "        output = message[2:-1:2]  # remove Begin and End line as well as the timers between\n",
    "        time = int(re.findall(r'\\b\\d+\\b', message[1])[0])\n",
    "        all_numbers = [re.findall(r'[01\\-]+', o) for o in output]\n",
    "        try:\n",
    "            o = VHDLOutput(time,\n",
    "                *all_numbers[0],\n",
    "                *all_numbers[1],\n",
    "                *all_numbers[2],\n",
    "                *all_numbers[3],\n",
    "                *all_numbers[4],\n",
    "                *all_numbers[5]\n",
    "            )\n",
    "            outputs.append(o)\n",
    "        except Exception as e:\n",
    "            print(e)\n",
    "            print(\"\\n\".join(message))\n",
    "        \n",
    "    return outputs"
   ]
  },
  {
   "cell_type": "code",
   "execution_count": 731,
   "metadata": {},
   "outputs": [
    {
     "name": "stdout",
     "output_type": "stream",
     "text": [
      "list index out of range\n",
      "#    Time: 400 ps  Iteration: 0  Instance: /testbench/dut/dp\n",
      "#    Time: 405 ps  Iteration: 1  Instance: /testbench\n"
     ]
    }
   ],
   "source": [
    "with open(\"output.txt\") as file:\n",
    "    lines = [l for l in file.read().split(\"\\n\") if l[:9] == \"# ** Note\" or l[:9] == \"#    Time\"]\n",
    "    lines = [l for l in lines if \"Program terminated\" not in l]\n",
    "\n",
    "outputs = parse_messages(lines)"
   ]
  },
  {
   "cell_type": "markdown",
   "metadata": {},
   "source": [
    "### Assert some values"
   ]
  },
  {
   "cell_type": "code",
   "execution_count": 732,
   "metadata": {},
   "outputs": [],
   "source": [
    "expected_values = {\n",
    "    2: {\n",
    "        \"pc\": 0,\n",
    "    },\n",
    "    3: {\n",
    "        \"pc\": 4,\n",
    "        \"jumpAddr\": 20\n",
    "    },\n",
    "    4: {   # addi $29, $29, -4\n",
    "        \"pc\": 20,   # a jump took place\n",
    "        \"instruction\": 0x23bdfffc,\n",
    "        \"aluA\": 512,\n",
    "        \"aluResult\": 508\n",
    "    },\n",
    "    5: {\n",
    "        \"pc\": 24,\n",
    "        \"instruction\": 0xafbe0000\n",
    "    },\n",
    "    6: {\n",
    "        \"pc\": 28\n",
    "    },\n",
    "    7: {\n",
    "        \"pc\": 32\n",
    "    },\n",
    "    8: {\n",
    "        \"pc\": 36,\n",
    "        \"instruction\": 0x20090001\n",
    "    },\n",
    "    9: {\n",
    "        \"pc\": 40,\n",
    "        \"result\": 32   # space\n",
    "    },\n",
    "    10: {\n",
    "        \"pc\": 44,\n",
    "        \"branch\": 1,\n",
    "        \"addrSel\": 0,\n",
    "        \"nextAddr\": 48,\n",
    "        \"branchAddr\": 120\n",
    "    },\n",
    "    11: {\n",
    "        \"pc\": 48,\n",
    "        \"branch\": 1,\n",
    "        \"addrSel\": 0,\n",
    "        \"nextAddr\": 52,\n",
    "        \"branchAddr\": 84\n",
    "    },\n",
    "    12: {\n",
    "        \"pc\": 52,\n",
    "        \"aluCtrl\": 7, # sub\n",
    "        \"result\": 1\n",
    "    },\n",
    "    13: {\n",
    "        \"pc\": 56,  # bne $t3, $t0, else1\n",
    "        \"aluCtrl\": 6,\n",
    "        \"addrSel\": 1,\n",
    "    },\n",
    "    14: {\n",
    "        \"pc\": 84,  # a jump happened,\n",
    "        \"result\": 32\n",
    "    },\n",
    "    15: {\n",
    "        \"pc\": 88,\n",
    "        \"aluA\": 32,\n",
    "        \"aluB\": 32,\n",
    "        \"addrSel\": 0   # no jump, since they are equal and we have `bne`\n",
    "    },\n",
    "    16: {\n",
    "        \"pc\": 92,\n",
    "        \"aluA\": 0,\n",
    "        \"aluB\": 1,\n",
    "        \"aluResult\": 1,\n",
    "        \"result\": 1\n",
    "    },\n",
    "    17: {\n",
    "        \"pc\": 96,\n",
    "        \"result\": 0  # sub 1 - 1 = 0\n",
    "    },\n",
    "    19: {\n",
    "        \"pc\": 104\n",
    "    },\n",
    "    20: {\n",
    "        \"pc\": 112\n",
    "    },\n",
    "    21: {\n",
    "        \"pc\": 116 ## this is a jump to 40\n",
    "    },\n",
    "    22: {\n",
    "        \"pc\": 40,\n",
    "        \"result\": 116  # lower case t\n",
    "    },\n",
    "    29: {\n",
    "        \"pc\": 68,\n",
    "        \"aluA\": 116,\n",
    "        \"aluResult\": 116 - 32\n",
    "    },\n",
    "    30: {\n",
    "        \n",
    "    }\n",
    "    \n",
    "}\n",
    "\n",
    "for k, values in expected_values.items():\n",
    "    actual_o = outputs[k]\n",
    "    for key, int_val in values.items():\n",
    "        assert int(getattr(actual_o, key), 2) == int_val, f\"Error: at index {k}: {key} expected value {int_val} but was {int(getattr(actual_o, key), 2)}\""
   ]
  },
  {
   "cell_type": "code",
   "execution_count": null,
   "metadata": {},
   "outputs": [],
   "source": []
  },
  {
   "cell_type": "markdown",
   "metadata": {},
   "source": [
    "bin: 01101001011010000111010000100000\n",
    "\n",
    "hex:  0x69687420\n",
    "\n",
    "int:  1768453152\n"
   ]
  },
  {
   "cell_type": "code",
   "execution_count": 744,
   "metadata": {},
   "outputs": [
    {
     "name": "stdout",
     "output_type": "stream",
     "text": [
      "bin: 00000000000000000000000001111000\n",
      "hex:  0x00000078\n",
      "int:  120\n"
     ]
    }
   ],
   "source": [
    "o = outputs[33]\n",
    "b2debug(o.pc)"
   ]
  },
  {
   "cell_type": "code",
   "execution_count": null,
   "metadata": {},
   "outputs": [],
   "source": []
  },
  {
   "cell_type": "code",
   "execution_count": 747,
   "metadata": {},
   "outputs": [
    {
     "data": {
      "text/plain": [
       "'0x0800001c'"
      ]
     },
     "execution_count": 747,
     "metadata": {},
     "output_type": "execute_result"
    }
   ],
   "source": [
    "b2hex(\"00001000000000000000000000011100\")"
   ]
  }
 ],
 "metadata": {
  "kernelspec": {
   "display_name": "Python 3",
   "language": "python",
   "name": "python3"
  },
  "language_info": {
   "codemirror_mode": {
    "name": "ipython",
    "version": 3
   },
   "file_extension": ".py",
   "mimetype": "text/x-python",
   "name": "python",
   "nbconvert_exporter": "python",
   "pygments_lexer": "ipython3",
   "version": "3.6.6"
  }
 },
 "nbformat": 4,
 "nbformat_minor": 2
}
